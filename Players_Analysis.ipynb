{
 "cells": [
  {
   "cell_type": "code",
   "execution_count": 1,
   "id": "7ce33f76",
   "metadata": {},
   "outputs": [],
   "source": [
    "import pandas as pd\n",
    "import numpy as np"
   ]
  },
  {
   "cell_type": "code",
   "execution_count": 2,
   "id": "ccfcd0d1",
   "metadata": {},
   "outputs": [],
   "source": [
    "players = pd.read_csv(\"./players.csv\")"
   ]
  },
  {
   "cell_type": "code",
   "execution_count": 3,
   "id": "a2d4b045",
   "metadata": {},
   "outputs": [
    {
     "name": "stdout",
     "output_type": "stream",
     "text": [
      "<class 'pandas.core.frame.DataFrame'>\n",
      "RangeIndex: 26887 entries, 0 to 26886\n",
      "Data columns (total 15 columns):\n",
      " #   Column            Non-Null Count  Dtype  \n",
      "---  ------            --------------  -----  \n",
      " 0   Unnamed: 0        26887 non-null  int64  \n",
      " 1   username          26886 non-null  object \n",
      " 2   encoded_username  26886 non-null  object \n",
      " 3   url               26887 non-null  object \n",
      " 4   wave              26887 non-null  float64\n",
      " 5   ratings           17206 non-null  object \n",
      " 6   S2_record         0 non-null      float64\n",
      " 7   S2_last_played    0 non-null      float64\n",
      " 8   S3_record         0 non-null      float64\n",
      " 9   S3_last_played    0 non-null      float64\n",
      " 10  S4_record         0 non-null      float64\n",
      " 11  S4_last_played    0 non-null      float64\n",
      " 12  T_record          0 non-null      float64\n",
      " 13  T_last_played     0 non-null      float64\n",
      " 14  stats_page        17206 non-null  object \n",
      "dtypes: float64(9), int64(1), object(5)\n",
      "memory usage: 3.1+ MB\n"
     ]
    }
   ],
   "source": [
    "players.info()"
   ]
  },
  {
   "cell_type": "code",
   "execution_count": null,
   "id": "1df6caf8",
   "metadata": {},
   "outputs": [],
   "source": []
  }
 ],
 "metadata": {
  "kernelspec": {
   "display_name": "GU",
   "language": "python",
   "name": "gu"
  },
  "language_info": {
   "codemirror_mode": {
    "name": "ipython",
    "version": 3
   },
   "file_extension": ".py",
   "mimetype": "text/x-python",
   "name": "python",
   "nbconvert_exporter": "python",
   "pygments_lexer": "ipython3",
   "version": "3.10.4"
  }
 },
 "nbformat": 4,
 "nbformat_minor": 5
}
