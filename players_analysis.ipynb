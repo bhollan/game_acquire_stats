{
 "cells": [
  {
   "cell_type": "code",
   "execution_count": 7,
   "id": "7ce33f76",
   "metadata": {},
   "outputs": [],
   "source": [
    "import pandas as pd\n",
    "import numpy as np\n",
    "import matplotlib.pyplot as plt"
   ]
  },
  {
   "cell_type": "code",
   "execution_count": 2,
   "id": "ccfcd0d1",
   "metadata": {},
   "outputs": [],
   "source": [
    "players = pd.read_csv(\"./players.csv\")"
   ]
  },
  {
   "cell_type": "code",
   "execution_count": 3,
   "id": "a2d4b045",
   "metadata": {},
   "outputs": [
    {
     "name": "stdout",
     "output_type": "stream",
     "text": [
      "<class 'pandas.core.frame.DataFrame'>\n",
      "RangeIndex: 26887 entries, 0 to 26886\n",
      "Data columns (total 15 columns):\n",
      " #   Column            Non-Null Count  Dtype  \n",
      "---  ------            --------------  -----  \n",
      " 0   Unnamed: 0        26887 non-null  int64  \n",
      " 1   username          26886 non-null  object \n",
      " 2   encoded_username  26886 non-null  object \n",
      " 3   url               26887 non-null  object \n",
      " 4   wave              26887 non-null  float64\n",
      " 5   ratings           17206 non-null  object \n",
      " 6   S2_record         0 non-null      float64\n",
      " 7   S2_last_played    0 non-null      float64\n",
      " 8   S3_record         0 non-null      float64\n",
      " 9   S3_last_played    0 non-null      float64\n",
      " 10  S4_record         0 non-null      float64\n",
      " 11  S4_last_played    0 non-null      float64\n",
      " 12  T_record          0 non-null      float64\n",
      " 13  T_last_played     0 non-null      float64\n",
      " 14  stats_page        17206 non-null  object \n",
      "dtypes: float64(9), int64(1), object(5)\n",
      "memory usage: 3.1+ MB\n"
     ]
    }
   ],
   "source": [
    "players.info()"
   ]
  },
  {
   "cell_type": "code",
   "execution_count": 11,
   "id": "1df6caf8",
   "metadata": {},
   "outputs": [
    {
     "data": {
      "image/png": "[encoded data removed]",
      "text/plain": [
       "<Figure size 640x480 with 1 Axes>"
      ]
     },
     "metadata": {},
     "output_type": "display_data"
    }
   ],
   "source": [
    "username_lens = players['username'].str.len()\n",
    "plt.hist(username_lens, bins=30)\n",
    "plt.show()"
   ]
  },
  {
   "cell_type": "code",
   "execution_count": 20,
   "id": "1c4c112a",
   "metadata": {},
   "outputs": [
    {
     "data": {
      "text/plain": [
       "15301         hillarybush\n",
       "24729         DirtyWizard\n",
       "26320         appleseed23\n",
       "19179             Sneaky.\n",
       "4666           tatinha102\n",
       "9400     Bicurious George\n",
       "24932               Chip*\n",
       "26633               akuma\n",
       "11887         andy4butler\n",
       "9482              Adibaba\n",
       "25484            Miriam22\n",
       "11714                Resi\n",
       "10395       huggablepeach\n",
       "5789             Natedawg\n",
       "2850            Alias2O16\n",
       "15340             Ald7901\n",
       "8444              Dg17452\n",
       "3659               Nili d\n",
       "9105           Andsantosm\n",
       "17156           fuckwitit\n",
       "10510             dmillos\n",
       "26833            Miriamus\n",
       "12047             Zengoof\n",
       "4546              newmoon\n",
       "17177                 Ron\n",
       "Name: username, dtype: object"
      ]
     },
     "execution_count": 20,
     "metadata": {},
     "output_type": "execute_result"
    }
   ],
   "source": [
    "players['username'].sample(25)"
   ]
  },
  {
   "cell_type": "code",
   "execution_count": null,
   "id": "dc7f6019",
   "metadata": {},
   "outputs": [],
   "source": []
  }
 ],
 "metadata": {
  "kernelspec": {
   "display_name": "GU",
   "language": "python",
   "name": "gu"
  },
  "language_info": {
   "codemirror_mode": {
    "name": "ipython",
    "version": 3
   },
   "file_extension": ".py",
   "mimetype": "text/x-python",
   "name": "python",
   "nbconvert_exporter": "python",
   "pygments_lexer": "ipython3",
   "version": "3.10.4"
  }
 },
 "nbformat": 4,
 "nbformat_minor": 5
}
