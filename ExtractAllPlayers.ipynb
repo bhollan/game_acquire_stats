{
 "cells": [
  {
   "cell_type": "markdown",
   "id": "a18dd25e",
   "metadata": {},
   "source": [
    "Set up all columns before any fetching is done\n",
    "set up 'root's (rankings, server file)\n",
    "For every iteration, it should fetch all unknowns, store their \"wave\", then extract all unseen players from that cohort\n",
    "Then once no unseen players are there, store as CSV file\n",
    "\n",
    "Factor out everything into a new repo"
   ]
  },
  {
   "cell_type": "code",
   "execution_count": 1,
   "id": "030785d5",
   "metadata": {},
   "outputs": [],
   "source": [
    "import pandas as pd\n",
    "import numpy as np\n",
    "import requests\n",
    "import json\n",
    "from base64 import b64encode as b64\n",
    "import asyncio\n",
    "import time\n",
    "import ast\n",
    "import itertools\n"
   ]
  },
  {
   "cell_type": "code",
   "execution_count": 2,
   "id": "edbf6f62",
   "metadata": {},
   "outputs": [
    {
     "name": "stdout",
     "output_type": "stream",
     "text": [
      "old names:   23331\n",
      "rated names:   726\n"
     ]
    }
   ],
   "source": [
    "from username_to_user_id import username_to_user_id # from original repo\n",
    "old_names = set(username_to_user_id.keys())\n",
    "print(\"old names:  \", len(old_names))\n",
    "\n",
    "ratings_url = \"https://acquire.tlstyer.com/stats/data/ratings.json\"\n",
    "resp = requests.get(ratings_url)\n",
    "stats = json.loads(resp.text)\n",
    "\n",
    "rated_names = set()\n",
    "for key in stats.keys():\n",
    "    for rating in stats[key]:\n",
    "        name = rating[0]\n",
    "        rated_names.add(name)\n",
    "print(\"rated names:  \", len(rated_names))\n",
    "\n",
    "\n",
    "player_page_root = \"https://acquire.tlstyer.com/stats/data/users/\" # /encoded_username.json\n",
    "# extract all names from JSON response"
   ]
  },
  {
   "cell_type": "code",
   "execution_count": 3,
   "id": "8e976b79",
   "metadata": {},
   "outputs": [],
   "source": [
    "def encode_username(s_ascii = \"username\"):\n",
    "    s_code = b64(s_ascii.encode(\"utf-8\")).decode(\"utf-8\")\n",
    "    s_code = s_code.replace(\"=\", \"\")\n",
    "    s_code = s_code.replace(\"+\", \"\")\n",
    "    s_code = s_code.replace(\"\\/\", \"_\")\n",
    "    return s_code\n",
    "\n",
    "\n"
   ]
  },
  {
   "cell_type": "code",
   "execution_count": 4,
   "id": "8360db29",
   "metadata": {},
   "outputs": [
    {
     "name": "stdout",
     "output_type": "stream",
     "text": [
      "24057\n",
      "23694\n",
      "363\n"
     ]
    }
   ],
   "source": [
    "print(len(list(rated_names) + list(old_names)))\n",
    "print(len(rated_names.union(old_names)))\n",
    "print(len(rated_names.intersection(old_names)))"
   ]
  },
  {
   "cell_type": "code",
   "execution_count": 5,
   "id": "0246ed28",
   "metadata": {},
   "outputs": [
    {
     "data": {
      "text/html": [
       "<div>\n",
       "<style scoped>\n",
       "    .dataframe tbody tr th:only-of-type {\n",
       "        vertical-align: middle;\n",
       "    }\n",
       "\n",
       "    .dataframe tbody tr th {\n",
       "        vertical-align: top;\n",
       "    }\n",
       "\n",
       "    .dataframe thead th {\n",
       "        text-align: right;\n",
       "    }\n",
       "</style>\n",
       "<table border=\"1\" class=\"dataframe\">\n",
       "  <thead>\n",
       "    <tr style=\"text-align: right;\">\n",
       "      <th></th>\n",
       "      <th>username</th>\n",
       "      <th>encoded_username</th>\n",
       "      <th>url</th>\n",
       "    </tr>\n",
       "  </thead>\n",
       "  <tbody>\n",
       "    <tr>\n",
       "      <th>0</th>\n",
       "      <td>scott.hausman</td>\n",
       "      <td>c2NvdHQuaGF1c21hbg</td>\n",
       "      <td>https://acquire.tlstyer.com/stats/data/users/c...</td>\n",
       "    </tr>\n",
       "    <tr>\n",
       "      <th>1</th>\n",
       "      <td>CR winner</td>\n",
       "      <td>Q1Igd2lubmVy</td>\n",
       "      <td>https://acquire.tlstyer.com/stats/data/users/Q...</td>\n",
       "    </tr>\n",
       "    <tr>\n",
       "      <th>2</th>\n",
       "      <td>radar1086</td>\n",
       "      <td>cmFkYXIxMDg2</td>\n",
       "      <td>https://acquire.tlstyer.com/stats/data/users/c...</td>\n",
       "    </tr>\n",
       "    <tr>\n",
       "      <th>3</th>\n",
       "      <td>H.R.Puffn'stuff</td>\n",
       "      <td>SC5SLlB1ZmZuJ3N0dWZm</td>\n",
       "      <td>https://acquire.tlstyer.com/stats/data/users/S...</td>\n",
       "    </tr>\n",
       "    <tr>\n",
       "      <th>4</th>\n",
       "      <td>Master 01</td>\n",
       "      <td>TWFzdGVyIDAx</td>\n",
       "      <td>https://acquire.tlstyer.com/stats/data/users/T...</td>\n",
       "    </tr>\n",
       "    <tr>\n",
       "      <th>...</th>\n",
       "      <td>...</td>\n",
       "      <td>...</td>\n",
       "      <td>...</td>\n",
       "    </tr>\n",
       "    <tr>\n",
       "      <th>23689</th>\n",
       "      <td>1234</td>\n",
       "      <td>MTIzNA</td>\n",
       "      <td>https://acquire.tlstyer.com/stats/data/users/M...</td>\n",
       "    </tr>\n",
       "    <tr>\n",
       "      <th>23690</th>\n",
       "      <td>Xabo</td>\n",
       "      <td>WGFibw</td>\n",
       "      <td>https://acquire.tlstyer.com/stats/data/users/W...</td>\n",
       "    </tr>\n",
       "    <tr>\n",
       "      <th>23691</th>\n",
       "      <td>v-locity</td>\n",
       "      <td>di1sb2NpdHk</td>\n",
       "      <td>https://acquire.tlstyer.com/stats/data/users/d...</td>\n",
       "    </tr>\n",
       "    <tr>\n",
       "      <th>23692</th>\n",
       "      <td>Tim!!</td>\n",
       "      <td>VGltISE</td>\n",
       "      <td>https://acquire.tlstyer.com/stats/data/users/V...</td>\n",
       "    </tr>\n",
       "    <tr>\n",
       "      <th>23693</th>\n",
       "      <td>Noter Dame</td>\n",
       "      <td>Tm90ZXIgRGFtZQ</td>\n",
       "      <td>https://acquire.tlstyer.com/stats/data/users/T...</td>\n",
       "    </tr>\n",
       "  </tbody>\n",
       "</table>\n",
       "<p>23694 rows × 3 columns</p>\n",
       "</div>"
      ],
      "text/plain": [
       "              username      encoded_username  \\\n",
       "0        scott.hausman    c2NvdHQuaGF1c21hbg   \n",
       "1            CR winner          Q1Igd2lubmVy   \n",
       "2            radar1086          cmFkYXIxMDg2   \n",
       "3      H.R.Puffn'stuff  SC5SLlB1ZmZuJ3N0dWZm   \n",
       "4            Master 01          TWFzdGVyIDAx   \n",
       "...                ...                   ...   \n",
       "23689             1234                MTIzNA   \n",
       "23690             Xabo                WGFibw   \n",
       "23691         v-locity           di1sb2NpdHk   \n",
       "23692            Tim!!               VGltISE   \n",
       "23693       Noter Dame        Tm90ZXIgRGFtZQ   \n",
       "\n",
       "                                                     url  \n",
       "0      https://acquire.tlstyer.com/stats/data/users/c...  \n",
       "1      https://acquire.tlstyer.com/stats/data/users/Q...  \n",
       "2      https://acquire.tlstyer.com/stats/data/users/c...  \n",
       "3      https://acquire.tlstyer.com/stats/data/users/S...  \n",
       "4      https://acquire.tlstyer.com/stats/data/users/T...  \n",
       "...                                                  ...  \n",
       "23689  https://acquire.tlstyer.com/stats/data/users/M...  \n",
       "23690  https://acquire.tlstyer.com/stats/data/users/W...  \n",
       "23691  https://acquire.tlstyer.com/stats/data/users/d...  \n",
       "23692  https://acquire.tlstyer.com/stats/data/users/V...  \n",
       "23693  https://acquire.tlstyer.com/stats/data/users/T...  \n",
       "\n",
       "[23694 rows x 3 columns]"
      ]
     },
     "execution_count": 5,
     "metadata": {},
     "output_type": "execute_result"
    }
   ],
   "source": [
    "players = pd.DataFrame()\n",
    "usernames = pd.Series(list(rated_names.union(old_names)))\n",
    "players['username'] = usernames\n",
    "players['encoded_username'] = players['username'].apply(encode_username)\n",
    "players['url'] = player_page_root + players['encoded_username'] + \".json\"\n",
    "players"
   ]
  },
  {
   "cell_type": "code",
   "execution_count": 17,
   "id": "567410a0",
   "metadata": {},
   "outputs": [
    {
     "name": "stdout",
     "output_type": "stream",
     "text": [
      "<class 'pandas.core.frame.DataFrame'>\n",
      "RangeIndex: 23694 entries, 0 to 23693\n",
      "Data columns (total 24 columns):\n",
      " #   Column                Non-Null Count  Dtype  \n",
      "---  ------                --------------  -----  \n",
      " 0   username              23694 non-null  object \n",
      " 1   encoded_username      23694 non-null  object \n",
      " 2   url                   23694 non-null  object \n",
      " 3   find_degree           23694 non-null  int64  \n",
      " 4   Singles2_games_count  0 non-null      float64\n",
      " 5   Singles2_rating       0 non-null      float64\n",
      " 6   Singles2_rate_moe     0 non-null      float64\n",
      " 7   Singles2_record       0 non-null      float64\n",
      " 8   Singles2_last_played  0 non-null      float64\n",
      " 9   Singles3_rating       0 non-null      float64\n",
      " 10  Singles3_rate_moe     0 non-null      float64\n",
      " 11  Singles3_games_count  0 non-null      float64\n",
      " 12  Singles3_record       0 non-null      float64\n",
      " 13  Singles3_last_played  0 non-null      float64\n",
      " 14  Singles4_rating       0 non-null      float64\n",
      " 15  Singles4_rate_moe     0 non-null      float64\n",
      " 16  Singles4_games_count  0 non-null      float64\n",
      " 17  Singles4_record       0 non-null      float64\n",
      " 18  Singles4_last_played  0 non-null      float64\n",
      " 19  Teams_rating          0 non-null      float64\n",
      " 20  Teams_rate_moe        0 non-null      float64\n",
      " 21  Teams_games_count     0 non-null      float64\n",
      " 22  Teams_record          0 non-null      float64\n",
      " 23  Teams_last_played     0 non-null      float64\n",
      "dtypes: float64(20), int64(1), object(3)\n",
      "memory usage: 4.3+ MB\n"
     ]
    }
   ],
   "source": [
    "players['find_degree'] = np.nan\n",
    "\n",
    "flavors = ['Singles2', 'Singles3', 'Singles4', 'Teams']\n",
    "attrs = ['rating', 'rate_moe', 'games_count', 'record', 'last_played']\n",
    "\n",
    "words = list(itertools.product(flavors, attrs))\n",
    "cols = [\"_\".join(two) for two in words]\n",
    "\n",
    "for col in cols:\n",
    "    players[f'{col}'] = np.nan\n",
    "\n",
    "players.info()\n"
   ]
  },
  {
   "cell_type": "code",
   "execution_count": 18,
   "id": "284161d9",
   "metadata": {},
   "outputs": [],
   "source": [
    "players.to_pickle(\"./players.pkl\")"
   ]
  },
  {
   "cell_type": "code",
   "execution_count": 21,
   "id": "fc7e910e",
   "metadata": {},
   "outputs": [
    {
     "name": "stdout",
     "output_type": "stream",
     "text": [
      "<class 'pandas.core.frame.DataFrame'>\n",
      "RangeIndex: 23694 entries, 0 to 23693\n",
      "Data columns (total 25 columns):\n",
      " #   Column                Non-Null Count  Dtype  \n",
      "---  ------                --------------  -----  \n",
      " 0   username              23694 non-null  object \n",
      " 1   encoded_username      23694 non-null  object \n",
      " 2   url                   23694 non-null  object \n",
      " 3   find_degree           23694 non-null  int64  \n",
      " 4   Singles2_games_count  0 non-null      float64\n",
      " 5   Singles2_rating       0 non-null      float64\n",
      " 6   Singles2_rate_moe     0 non-null      float64\n",
      " 7   Singles2_record       0 non-null      float64\n",
      " 8   Singles2_last_played  0 non-null      float64\n",
      " 9   Singles3_rating       0 non-null      float64\n",
      " 10  Singles3_rate_moe     0 non-null      float64\n",
      " 11  Singles3_games_count  0 non-null      float64\n",
      " 12  Singles3_record       0 non-null      float64\n",
      " 13  Singles3_last_played  0 non-null      float64\n",
      " 14  Singles4_rating       0 non-null      float64\n",
      " 15  Singles4_rate_moe     0 non-null      float64\n",
      " 16  Singles4_games_count  0 non-null      float64\n",
      " 17  Singles4_record       0 non-null      float64\n",
      " 18  Singles4_last_played  0 non-null      float64\n",
      " 19  Teams_rating          0 non-null      float64\n",
      " 20  Teams_rate_moe        0 non-null      float64\n",
      " 21  Teams_games_count     0 non-null      float64\n",
      " 22  Teams_record          0 non-null      float64\n",
      " 23  Teams_last_played     0 non-null      float64\n",
      " 24  stats_page            23694 non-null  object \n",
      "dtypes: float64(20), int64(1), object(4)\n",
      "memory usage: 4.5+ MB\n"
     ]
    }
   ],
   "source": [
    "players = pd.read_pickle(\"./players.pkl\")\n",
    "players.info()"
   ]
  },
  {
   "cell_type": "code",
   "execution_count": 22,
   "id": "27ceeae8",
   "metadata": {},
   "outputs": [
    {
     "data": {
      "text/plain": [
       "9681"
      ]
     },
     "execution_count": 22,
     "metadata": {},
     "output_type": "execute_result"
    }
   ],
   "source": [
    "len(players[players['stats_page'] == \"\"])"
   ]
  },
  {
   "cell_type": "code",
   "execution_count": 23,
   "id": "5d9e16c6",
   "metadata": {},
   "outputs": [],
   "source": [
    "players['stats_page'] = players['stats_page'].str.decode(\"utf-8\")"
   ]
  },
  {
   "cell_type": "code",
   "execution_count": 24,
   "id": "3fa875bd",
   "metadata": {},
   "outputs": [
    {
     "data": {
      "text/plain": [
       "9681"
      ]
     },
     "execution_count": 24,
     "metadata": {},
     "output_type": "execute_result"
    }
   ],
   "source": [
    "sum(players['stats_page'].isna())"
   ]
  },
  {
   "cell_type": "code",
   "execution_count": 25,
   "id": "8a305ed2",
   "metadata": {},
   "outputs": [],
   "source": [
    "opponents = set()"
   ]
  },
  {
   "cell_type": "code",
   "execution_count": 27,
   "id": "8a78f512",
   "metadata": {},
   "outputs": [
    {
     "data": {
      "text/plain": [
       "1"
      ]
     },
     "execution_count": 27,
     "metadata": {},
     "output_type": "execute_result"
    }
   ],
   "source": [
    "sum(players['username'] == \"test1\")  # known username from server file"
   ]
  },
  {
   "cell_type": "code",
   "execution_count": 28,
   "id": "ee47c56c",
   "metadata": {},
   "outputs": [],
   "source": [
    "known_players = set(players['username'])\n",
    "new_players = set()"
   ]
  },
  {
   "cell_type": "code",
   "execution_count": 381,
   "id": "84f4ec55",
   "metadata": {},
   "outputs": [
    {
     "name": "stdout",
     "output_type": "stream",
     "text": [
      "\n",
      "11\n",
      "96\n"
     ]
    }
   ],
   "source": [
    "valid_users = players[~players['stats_page'].isna()]\n",
    "\n",
    "#Extract ratings:\n",
    "valid_user = valid_users.sample()\n",
    "stats_object = json.loads(valid_user['stats_page'].values[0])\n",
    "ratings = stats_object['ratings']\n",
    "    # return ratings\n",
    "\n",
    "games = stats_object['games']\n",
    "print(\"\")\n",
    "print(len(games))\n",
    "\n",
    "#Extract Games Opponents:\n",
    "for game in games:\n",
    "    match_player = (game[2][0][0])\n",
    "    if match_player not in known_players:\n",
    "        if match_player not in new_players:\n",
    "            new_players.add(match_player)\n",
    "    # return new_players\n",
    "print(len(new_players))"
   ]
  },
  {
   "cell_type": "code",
   "execution_count": 382,
   "id": "1555c3d4",
   "metadata": {},
   "outputs": [
    {
     "name": "stdout",
     "output_type": "stream",
     "text": [
      "{'YumYum', 'hoff2021', 'Jkr4', 'Domkop', 'focus2021', 'xiaopiting', 'eero', 'baroquester', 'Thales College Student', 'zigzag', 'just play fast', 'zeevr-BTW', 'spookygirl101', 'Tom Wambsgans', 'Shaggy', 'Sid the Kid', 'aaron2021', 'disenchanted 66.237', 'gogogadget', 'Bruno', 'Hilary', 'Nurse', 'prettykitty', 'Tune', '2300skidoo', 'Ron DeSantis', 'space672', 'Cleveland Indians', 'cupcake', 'Juice Box', 'ahmed.hany.abdelwahab@gmail.com', 'trent025', 'train7878', 'kurtweis22', 'stewie', 'space21', 'gmoney', 'LeopardGeckoFan', 'Skibaba2121', 'nevermind', 'Frank', 'Used2bA', 'piruli22', 'Wolvo', 'LSU', 'janssentan96', 'alwayswinning', 'Buddy6985', 'businessman2021', 'billyboy34', 'empireofthemind', 'DrSolano', 'H-Rah2022', 'Kali', '##', 'Alias2021', 'A.A.Ron', 'Doc Holliday', 'Spaceeer', 'Jakob-dec', 'dwomo', 'Fahrver21', 'itsamegary', 'Cousin Greg', 'dist347', 'cosmocougar!', 'tbow', 'Ruffy', 'GaryTx', 'mrblac', '2021plsbbttr', 'IAdoug2021', 'magenta', 'sllubad2003', 'Crown13', 'muditb', 'Ballinyourcourt', 'CoralSagan', 'kidcrush2021', 'wimpy', 'Awkward Aussie', 'greatgame2021', 'Motel666', 'gs', 'cakes', 'wiebewiebe', 'Jakob-nov', 'triz', 'Sgt. Hugo Stiglitz', 'davecj', 'KIM IS A ASSHOLE', 'Gladiator21', 'John Galt', 'Alias2022', 'Fezco', 'jfitch'}\n"
     ]
    }
   ],
   "source": [
    "print(new_players)"
   ]
  },
  {
   "cell_type": "code",
   "execution_count": null,
   "id": "15b35976",
   "metadata": {},
   "outputs": [],
   "source": []
  }
 ],
 "metadata": {
  "kernelspec": {
   "display_name": "GU",
   "language": "python",
   "name": "gu"
  },
  "language_info": {
   "codemirror_mode": {
    "name": "ipython",
    "version": 3
   },
   "file_extension": ".py",
   "mimetype": "text/x-python",
   "name": "python",
   "nbconvert_exporter": "python",
   "pygments_lexer": "ipython3",
   "version": "3.10.4"
  }
 },
 "nbformat": 4,
 "nbformat_minor": 5
}
